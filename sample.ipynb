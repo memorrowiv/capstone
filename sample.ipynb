{
 "cells": [
  {
   "cell_type": "markdown",
   "id": "8a77807f92f26ee",
   "metadata": {},
   "source": [
    "# This is a sample Jupyter Notebook\n",
    "\n",
    "Below is an example of a code cell. \n",
    "Put your cursor into the cell and press Shift+Enter to execute it and select the next one, or click !here goes the icon of the corresponding button in the gutter! button.\n",
    "To debug a cell, press Alt+Shift+Enter, or click !here goes the icon of the corresponding button in the gutter! button.\n",
    "\n",
    "Press Double Shift to search everywhere for classes, files, tool windows, actions, and settings.\n",
    "\n",
    "To learn more about Jupyter Notebooks in PyCharm, see [help](https://www.jetbrains.com/help/pycharm/jupyter-notebook-support.html).\n",
    "For an overview of PyCharm, go to Help -> Learn IDE features or refer to [our documentation](https://www.jetbrains.com/help/pycharm/getting-started.html)."
   ]
  },
  {
   "cell_type": "code",
   "id": "fbc121e30a2defb3",
   "metadata": {},
   "source": [
    "import pandas as pd\n",
    "from sklearn import linear_model\n",
    "from sklearn.preprocessing import StandardScaler\n",
    "from sklearn.metrics import mean_squared_error, r2_score\n",
    "import ipywidgets as widgets\n",
    "from IPython.display import display\n",
    "\n",
    "\n",
    "columns_to_use = [7, 8, 9, 19, 22, 23]\n",
    "data = pd.read_csv('data.csv', usecols=columns_to_use)\n",
    "\n",
    "my_linear = linear_model.LinearRegression()\n",
    "\n",
    "x = data.iloc[:, [0, 1, 2, 4, 5]].values\n",
    "y = data.iloc[:, 3].values\n",
    "\n",
    "scaler = StandardScaler()\n",
    "x_scaled = scaler.fit_transform(x)\n",
    "\n",
    "my_linear.fit(x_scaled, y)\n",
    "\n",
    "linear_prediction = my_linear.predict(x_scaled)\n",
    "mse = mean_squared_error(y, linear_prediction)\n",
    "r2 = r2_score(y, linear_prediction)\n",
    "\n",
    "# Create input widgets\n",
    "input1 = widgets.FloatText(description='Input 1:')\n",
    "input2 = widgets.FloatText(description='Input 2:')\n",
    "input3 = widgets.FloatText(description='Input 3:')\n",
    "input4 = widgets.FloatText(description='Input 4:')\n",
    "input5 = widgets.FloatText(description='Input 5:')\n",
    "\n",
    "# Create a button\n",
    "run_button = widgets.Button(description='Predict')\n",
    "\n",
    "# Display the input widgets and button\n",
    "display(input1, input2, input3, input4, input5, run_button)\n",
    "\n",
    "# Define the function to run the prediction\n",
    "def run_prediction(b):\n",
    "    user_input = [[input1.value, input2.value, input3.value, input4.value, input5.value]]\n",
    "    x_input_scaled = scaler.transform(user_input)\n",
    "    pred_y = my_linear.predict(x_input_scaled)\n",
    "    print(f'Predicted value: {pred_y[0]}')\n",
    "\n",
    "# Attach the function to the button click event\n",
    "run_button.on_click(run_prediction)\n"
   ],
   "outputs": [],
   "execution_count": null
  },
  {
   "cell_type": "code",
   "execution_count": null,
   "id": "7f84d8fa021c8357",
   "metadata": {
    "ExecuteTime": {
     "end_time": "2024-08-24T18:45:33.250820Z",
     "start_time": "2024-08-24T18:45:33.247663Z"
    }
   },
   "outputs": [],
   "source": []
  },
  {
   "cell_type": "code",
   "execution_count": null,
   "id": "2348c73cf58ea525",
   "metadata": {},
   "outputs": [],
   "source": []
  }
 ],
 "metadata": {
  "kernelspec": {
   "display_name": "Python 3 (ipykernel)",
   "language": "python",
   "name": "python3"
  },
  "language_info": {
   "codemirror_mode": {
    "name": "ipython",
    "version": 3
   },
   "file_extension": ".py",
   "mimetype": "text/x-python",
   "name": "python",
   "nbconvert_exporter": "python",
   "pygments_lexer": "ipython3",
   "version": "3.12.3"
  }
 },
 "nbformat": 4,
 "nbformat_minor": 5
}
